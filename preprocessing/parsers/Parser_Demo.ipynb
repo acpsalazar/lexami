{
 "cells": [
  {
   "cell_type": "markdown",
   "id": "45cbe5df",
   "metadata": {},
   "source": [
    "Author: Ana Carmela Salazar\n",
    "\n",
    "Filename: parser_demo.ipynb\n",
    "\n",
    "Description: Data cleaning and classification thru pandas"
   ]
  },
  {
   "cell_type": "markdown",
   "id": "91ebc7b6",
   "metadata": {},
   "source": [
    "# Independent Study on the Applicability of Heuristics and Natural Language Processing Techniques to Classify and Categorize Statutes of Law\n",
    "\n",
    "## Part 1. Application of Simple Heuristics"
   ]
  },
  {
   "cell_type": "code",
   "execution_count": 1,
   "id": "994535fb",
   "metadata": {},
   "outputs": [],
   "source": [
    "import pandas as pd\n",
    "import re"
   ]
  },
  {
   "cell_type": "markdown",
   "id": "eec92eaa",
   "metadata": {},
   "source": [
    "## Legal Corpora\n",
    "\n",
    "Assuming this is the scraped data of Book IV, New Civil Code of the Philippines.\n",
    "\n",
    "For this independent study, Articles 1200, 1306, 1318, 1319, and 1320 were selected.\n",
    "\n",
    "### Assumptions\n",
    "\n",
    "Generally, the general rule is written in a positive tone followed by an exception.\n",
    "\n",
    "However, there are times that the statute itself is written in a negative tone.\n",
    "\n",
    "An article usually contains a general rule, qualifiers, and several exceptions. Keywords such as 'except', 'with the exception that' and 'unless' signposts an exception while words like 'additionally' and 'provided' signposts a qualifier.\n",
    "\n",
    "Some statutes are also written in several paragraphs. They may be in the form of enumeration of requisites like in Art. 1318, or they could pertain to different yet related topics like in Art. 1319.\n",
    "\n",
    "#### Article 1200. The right of choice belongs to the debtor, unless it has been expressly granted to the creditor.\n",
    "\n",
    "The parser should be able to identify the general rule from the exception.\n",
    "\n",
    "\n",
    "#### Article 1306. The contracting parties may establish such stipulations, clauses, terms and conditions as they may deem convenient, provided they are not contrary to law, morals, good customs, public order, or public policy. (1255a)\n",
    "\n",
    "The parser should be able to identify the qualifying conditions in order for the statute to apply. The word \"provided\" may be used as a qualifier or an exception depending on its usage.\n",
    "\n",
    "\n",
    "#### Article 1318. There is no contract unless the following requisites concur:\n",
    "\n",
    "#####    (1) Consent of the contracting parties;\n",
    "\n",
    "#####    (2) Object certain which is the subject matter of the contract;\n",
    "\n",
    "#####    (3) Cause of the obligation which is established. (1261)\n",
    "\n",
    "The parser should be able to recognize the enumerated phrases as part of the article. However, this is an example of a statute made in a negative tone. The outcome may become erroneous such that it would accept \"there is no contract\" as a general rule.\n",
    "\n",
    "\n",
    "#### Article 1319. Consent is manifested by the meeting of the offer and the acceptance upon the thing and the cause which are to constitute the contract. The offer must be certain and the acceptance absolute. A qualified acceptance constitutes a counter-offer.\n",
    "\n",
    "#### Acceptance made by letter or telegram does not bind the offerer except from the time it came to his knowledge. The contract, in such a case, is presumed to have been entered into in the place where the offer was made. (1262a)\n",
    "\n",
    "Here is an example of a statute that has numerous subjects. In this example, Consent and Acceptance were discussed in two paragraphs.\n",
    "\n",
    "\n",
    "#### Article 1320. An acceptance may be express or implied. (n)\n",
    "\n",
    "Here is an example of a statute that does not have any exceptions. It talks about two kinds of acceptance, express or implied."
   ]
  },
  {
   "cell_type": "code",
   "execution_count": 2,
   "id": "ac2cd772",
   "metadata": {},
   "outputs": [],
   "source": [
    "legal_text = '''\n",
    "Art. 1200. The right of choice belongs to the debtor, unless it has been expressly granted to the creditor.\n",
    "\n",
    "Art. 1306. The contracting parties may establish such stipulations, clauses, terms and conditions as they may deem convenient, provided they are not contrary to law, morals, good customs, public order, or public policy. (1255a)\n",
    "\n",
    "Art. 1318. There is no contract unless the following requisites concur:\n",
    "\n",
    "    (1) Consent of the contracting parties;\n",
    "\n",
    "    (2) Object certain which is the subject matter of the contract;\n",
    "\n",
    "    (3) Cause of the obligation which is established. (1261)\n",
    "    \n",
    "Art. 1319. Consent is manifested by the meeting of the offer and the acceptance upon the thing and the cause which are to constitute the contract. The offer must be certain and the acceptance absolute. A qualified acceptance constitutes a counter-offer.\n",
    "\n",
    "Acceptance made by letter or telegram does not bind the offerer except from the time it came to his knowledge. The contract, in such a case, is presumed to have been entered into in the place where the offer was made. (1262a)\n",
    "\n",
    "Art. 1320. An acceptance may be express or implied. (n)\n",
    "'''"
   ]
  },
  {
   "cell_type": "markdown",
   "id": "30c888c7",
   "metadata": {},
   "source": [
    "#### The raw version:"
   ]
  },
  {
   "cell_type": "code",
   "execution_count": 3,
   "id": "157d2cdd",
   "metadata": {},
   "outputs": [
    {
     "data": {
      "text/plain": [
       "'\\nArt. 1200. The right of choice belongs to the debtor, unless it has been expressly granted to the creditor.\\n\\nArt. 1306. The contracting parties may establish such stipulations, clauses, terms and conditions as they may deem convenient, provided they are not contrary to law, morals, good customs, public order, or public policy. (1255a)\\n\\nArt. 1318. There is no contract unless the following requisites concur:\\n\\n    (1) Consent of the contracting parties;\\n\\n    (2) Object certain which is the subject matter of the contract;\\n\\n    (3) Cause of the obligation which is established. (1261)\\n    \\nArt. 1319. Consent is manifested by the meeting of the offer and the acceptance upon the thing and the cause which are to constitute the contract. The offer must be certain and the acceptance absolute. A qualified acceptance constitutes a counter-offer.\\n\\nAcceptance made by letter or telegram does not bind the offerer except from the time it came to his knowledge. The contract, in such a case, is presumed to have been entered into in the place where the offer was made. (1262a)\\n\\nArt. 1320. An acceptance may be express or implied. (n)\\n'"
      ]
     },
     "execution_count": 3,
     "metadata": {},
     "output_type": "execute_result"
    }
   ],
   "source": [
    "legal_text"
   ]
  },
  {
   "cell_type": "markdown",
   "id": "d95e71b2",
   "metadata": {},
   "source": [
    "## Data Cleaning\n",
    "\n",
    "### Transforming raw text into a DataFrame\n",
    "\n",
    "By removing the newline characters, we can create a list for the Articles and transform them into rows in a DataFrame"
   ]
  },
  {
   "cell_type": "code",
   "execution_count": 4,
   "id": "9eee50e8",
   "metadata": {},
   "outputs": [],
   "source": [
    "articles = legal_text.replace(\"\\n\", \"\")\n",
    "articles = re.split(\"Art. \", articles)\n",
    "articles = [x for x in articles if x]\n",
    "data_list = {\"Article\" : articles}\n",
    "df = pd.DataFrame(data_list)"
   ]
  },
  {
   "cell_type": "markdown",
   "id": "10b096b5",
   "metadata": {},
   "source": [
    "The data produced:"
   ]
  },
  {
   "cell_type": "code",
   "execution_count": 5,
   "id": "93211313",
   "metadata": {},
   "outputs": [
    {
     "data": {
      "text/html": [
       "<div>\n",
       "<style scoped>\n",
       "    .dataframe tbody tr th:only-of-type {\n",
       "        vertical-align: middle;\n",
       "    }\n",
       "\n",
       "    .dataframe tbody tr th {\n",
       "        vertical-align: top;\n",
       "    }\n",
       "\n",
       "    .dataframe thead th {\n",
       "        text-align: right;\n",
       "    }\n",
       "</style>\n",
       "<table border=\"1\" class=\"dataframe\">\n",
       "  <thead>\n",
       "    <tr style=\"text-align: right;\">\n",
       "      <th></th>\n",
       "      <th>Article</th>\n",
       "    </tr>\n",
       "  </thead>\n",
       "  <tbody>\n",
       "    <tr>\n",
       "      <th>0</th>\n",
       "      <td>1200. The right of choice belongs to the debto...</td>\n",
       "    </tr>\n",
       "    <tr>\n",
       "      <th>1</th>\n",
       "      <td>1306. The contracting parties may establish su...</td>\n",
       "    </tr>\n",
       "    <tr>\n",
       "      <th>2</th>\n",
       "      <td>1318. There is no contract unless the followin...</td>\n",
       "    </tr>\n",
       "    <tr>\n",
       "      <th>3</th>\n",
       "      <td>1319. Consent is manifested by the meeting of ...</td>\n",
       "    </tr>\n",
       "    <tr>\n",
       "      <th>4</th>\n",
       "      <td>1320. An acceptance may be express or implied....</td>\n",
       "    </tr>\n",
       "  </tbody>\n",
       "</table>\n",
       "</div>"
      ],
      "text/plain": [
       "                                             Article\n",
       "0  1200. The right of choice belongs to the debto...\n",
       "1  1306. The contracting parties may establish su...\n",
       "2  1318. There is no contract unless the followin...\n",
       "3  1319. Consent is manifested by the meeting of ...\n",
       "4  1320. An acceptance may be express or implied...."
      ]
     },
     "execution_count": 5,
     "metadata": {},
     "output_type": "execute_result"
    }
   ],
   "source": [
    "df"
   ]
  },
  {
   "cell_type": "markdown",
   "id": "d0ed9034",
   "metadata": {},
   "source": [
    "### Removing the Article number and isolating the Statutory text\n",
    "\n",
    "For redundancy, Article column will be copied into Statute column, where split using regular expression (regex) will be applied to remove the article number."
   ]
  },
  {
   "cell_type": "code",
   "execution_count": 6,
   "id": "3b04af6c",
   "metadata": {},
   "outputs": [],
   "source": [
    "df[\"Statute\"] = df[\"Article\"]\n",
    "df[\"Statute\"] = df[\"Statute\"].apply(lambda x: \"\".join(re.split(\"\\d{1,6}. \", x, 1)).strip())"
   ]
  },
  {
   "cell_type": "markdown",
   "id": "112fc460",
   "metadata": {},
   "source": [
    "The column produced:"
   ]
  },
  {
   "cell_type": "code",
   "execution_count": 7,
   "id": "d752deef",
   "metadata": {},
   "outputs": [
    {
     "data": {
      "text/plain": [
       "0    The right of choice belongs to the debtor, unl...\n",
       "1    The contracting parties may establish such sti...\n",
       "2    There is no contract unless the following requ...\n",
       "3    Consent is manifested by the meeting of the of...\n",
       "4         An acceptance may be express or implied. (n)\n",
       "Name: Statute, dtype: object"
      ]
     },
     "execution_count": 7,
     "metadata": {},
     "output_type": "execute_result"
    }
   ],
   "source": [
    "df[\"Statute\"]"
   ]
  },
  {
   "cell_type": "markdown",
   "id": "04b574fd",
   "metadata": {},
   "source": [
    "### Note\n",
    "\n",
    "As mentioned earlier, the goal is to check if a simple heuristic may be able to correctly classify phrases or group of words into general rule, exception, qualifiers (or qualifying conditions), and tone (positive or negative)."
   ]
  },
  {
   "cell_type": "code",
   "execution_count": 8,
   "id": "20a931e6",
   "metadata": {},
   "outputs": [],
   "source": [
    "exception_keywords = [\n",
    "    'except',\n",
    "    'but',\n",
    "    'unless',\n",
    "    'however',\n",
    "    'with the exception',\n",
    "    'provided'\n",
    "]\n",
    "\n",
    "qualifier_keywords = [\n",
    "    'in addition',\n",
    "    'additionally',\n",
    "    'provided',\n",
    "]"
   ]
  },
  {
   "cell_type": "code",
   "execution_count": 9,
   "id": "c15bba49",
   "metadata": {},
   "outputs": [
    {
     "data": {
      "text/plain": [
       "0    the right of choice belongs to the debtor, unl...\n",
       "1    the contracting parties may establish such sti...\n",
       "2    there is no contract unless the following requ...\n",
       "3    consent is manifested by the meeting of the of...\n",
       "4         an acceptance may be express or implied. (n)\n",
       "Name: General_Rule, dtype: object"
      ]
     },
     "execution_count": 9,
     "metadata": {},
     "output_type": "execute_result"
    }
   ],
   "source": [
    "df[\"General_Rule\"] = df[\"Statute\"]\n",
    "df[\"General_Rule\"] = df[\"General_Rule\"].str.lower()\n",
    "df[\"General_Rule\"]"
   ]
  },
  {
   "cell_type": "code",
   "execution_count": 10,
   "id": "52f02b02",
   "metadata": {},
   "outputs": [],
   "source": [
    "def categorize_rule(statute):\n",
    "    \n",
    "    \n",
    "    result = -1\n",
    "    k = \"\"\n",
    "    for x in exception_keywords:\n",
    "        result = statute.find(x)\n",
    "        if result != -1:\n",
    "            k = x\n",
    "    \n",
    "    if k != \"\":\n",
    "        return pd.Series([str(statute.split(k)[0]).strip(), str(statute.split(k)[1]).strip()])\n",
    "    \n",
    "    else:\n",
    "        return pd.Series([str(statute).strip(), \"\"])"
   ]
  },
  {
   "cell_type": "code",
   "execution_count": 11,
   "id": "a2103eef",
   "metadata": {},
   "outputs": [],
   "source": [
    "df[[\"General_Rule\",\"Exception\"]] = df[\"General_Rule\"].apply(categorize_rule)"
   ]
  },
  {
   "cell_type": "code",
   "execution_count": 12,
   "id": "d69ee73e",
   "metadata": {},
   "outputs": [
    {
     "data": {
      "text/html": [
       "<div>\n",
       "<style scoped>\n",
       "    .dataframe tbody tr th:only-of-type {\n",
       "        vertical-align: middle;\n",
       "    }\n",
       "\n",
       "    .dataframe tbody tr th {\n",
       "        vertical-align: top;\n",
       "    }\n",
       "\n",
       "    .dataframe thead th {\n",
       "        text-align: right;\n",
       "    }\n",
       "</style>\n",
       "<table border=\"1\" class=\"dataframe\">\n",
       "  <thead>\n",
       "    <tr style=\"text-align: right;\">\n",
       "      <th></th>\n",
       "      <th>Article</th>\n",
       "      <th>Statute</th>\n",
       "      <th>General_Rule</th>\n",
       "      <th>Exception</th>\n",
       "    </tr>\n",
       "  </thead>\n",
       "  <tbody>\n",
       "    <tr>\n",
       "      <th>0</th>\n",
       "      <td>1200. The right of choice belongs to the debto...</td>\n",
       "      <td>The right of choice belongs to the debtor, unl...</td>\n",
       "      <td>the right of choice belongs to the debtor,</td>\n",
       "      <td>it has been expressly granted to the creditor.</td>\n",
       "    </tr>\n",
       "    <tr>\n",
       "      <th>1</th>\n",
       "      <td>1306. The contracting parties may establish su...</td>\n",
       "      <td>The contracting parties may establish such sti...</td>\n",
       "      <td>the contracting parties may establish such sti...</td>\n",
       "      <td>they are not contrary to law, morals, good cus...</td>\n",
       "    </tr>\n",
       "    <tr>\n",
       "      <th>2</th>\n",
       "      <td>1318. There is no contract unless the followin...</td>\n",
       "      <td>There is no contract unless the following requ...</td>\n",
       "      <td>there is no contract</td>\n",
       "      <td>the following requisites concur:    (1) consen...</td>\n",
       "    </tr>\n",
       "    <tr>\n",
       "      <th>3</th>\n",
       "      <td>1319. Consent is manifested by the meeting of ...</td>\n",
       "      <td>Consent is manifested by the meeting of the of...</td>\n",
       "      <td>consent is manifested by the meeting of the of...</td>\n",
       "      <td>from the time it came to his knowledge. the co...</td>\n",
       "    </tr>\n",
       "    <tr>\n",
       "      <th>4</th>\n",
       "      <td>1320. An acceptance may be express or implied....</td>\n",
       "      <td>An acceptance may be express or implied. (n)</td>\n",
       "      <td>an acceptance may be express or implied. (n)</td>\n",
       "      <td></td>\n",
       "    </tr>\n",
       "  </tbody>\n",
       "</table>\n",
       "</div>"
      ],
      "text/plain": [
       "                                             Article  \\\n",
       "0  1200. The right of choice belongs to the debto...   \n",
       "1  1306. The contracting parties may establish su...   \n",
       "2  1318. There is no contract unless the followin...   \n",
       "3  1319. Consent is manifested by the meeting of ...   \n",
       "4  1320. An acceptance may be express or implied....   \n",
       "\n",
       "                                             Statute  \\\n",
       "0  The right of choice belongs to the debtor, unl...   \n",
       "1  The contracting parties may establish such sti...   \n",
       "2  There is no contract unless the following requ...   \n",
       "3  Consent is manifested by the meeting of the of...   \n",
       "4       An acceptance may be express or implied. (n)   \n",
       "\n",
       "                                        General_Rule  \\\n",
       "0         the right of choice belongs to the debtor,   \n",
       "1  the contracting parties may establish such sti...   \n",
       "2                               there is no contract   \n",
       "3  consent is manifested by the meeting of the of...   \n",
       "4       an acceptance may be express or implied. (n)   \n",
       "\n",
       "                                           Exception  \n",
       "0     it has been expressly granted to the creditor.  \n",
       "1  they are not contrary to law, morals, good cus...  \n",
       "2  the following requisites concur:    (1) consen...  \n",
       "3  from the time it came to his knowledge. the co...  \n",
       "4                                                     "
      ]
     },
     "execution_count": 12,
     "metadata": {},
     "output_type": "execute_result"
    }
   ],
   "source": [
    "df"
   ]
  },
  {
   "cell_type": "markdown",
   "id": "ed634b85",
   "metadata": {},
   "source": [
    "## Notes\n",
    "\n",
    "For Art. 1200, the simple algorithm works because it follows this sentence structure: [General Rule], [\"keyword\"] [Exception]. See output below."
   ]
  },
  {
   "cell_type": "code",
   "execution_count": 13,
   "id": "d4a952cc",
   "metadata": {},
   "outputs": [
    {
     "data": {
      "text/plain": [
       "'the right of choice belongs to the debtor,'"
      ]
     },
     "execution_count": 13,
     "metadata": {},
     "output_type": "execute_result"
    }
   ],
   "source": [
    "df[\"General_Rule\"][0] # Article 1200 General Rule"
   ]
  },
  {
   "cell_type": "code",
   "execution_count": 14,
   "id": "cc42b269",
   "metadata": {},
   "outputs": [
    {
     "data": {
      "text/plain": [
       "'it has been expressly granted to the creditor.'"
      ]
     },
     "execution_count": 14,
     "metadata": {},
     "output_type": "execute_result"
    }
   ],
   "source": [
    "df[\"Exception\"][0] # Article 1200 Exception"
   ]
  },
  {
   "cell_type": "markdown",
   "id": "ab447217",
   "metadata": {},
   "source": [
    "For Art. 1306, the algorithm works also. However, the word \"provided\" is present in both `exception_keywords` and `qualifier_keywords` which might introduce problems in identifying whether the next phrase/s or sentence/s are part of the `exceptions` or qualifying conditions to the `general rule`."
   ]
  },
  {
   "cell_type": "code",
   "execution_count": 15,
   "id": "0a64c32e",
   "metadata": {},
   "outputs": [
    {
     "data": {
      "text/plain": [
       "'the contracting parties may establish such stipulations, clauses, terms and conditions as they may deem convenient,'"
      ]
     },
     "execution_count": 15,
     "metadata": {},
     "output_type": "execute_result"
    }
   ],
   "source": [
    "df[\"General_Rule\"][1] # Article 1306 General Rule"
   ]
  },
  {
   "cell_type": "code",
   "execution_count": 16,
   "id": "69fa3775",
   "metadata": {},
   "outputs": [
    {
     "data": {
      "text/plain": [
       "'they are not contrary to law, morals, good customs, public order, or public policy. (1255a)'"
      ]
     },
     "execution_count": 16,
     "metadata": {},
     "output_type": "execute_result"
    }
   ],
   "source": [
    "df[\"Exception\"][1] # Article 1306 Exception"
   ]
  },
  {
   "cell_type": "markdown",
   "id": "90065292",
   "metadata": {},
   "source": [
    "For Art. 1318, the algorithm erroneously included the phrase \"there is no contract\" as part of the `general_rule`, as expected. The phrase \"there is no contract\" does not make sense as a general rule. It also erroneously classified the requisites as part of the `exception`."
   ]
  },
  {
   "cell_type": "code",
   "execution_count": 17,
   "id": "4a220fe3",
   "metadata": {},
   "outputs": [
    {
     "data": {
      "text/plain": [
       "'there is no contract'"
      ]
     },
     "execution_count": 17,
     "metadata": {},
     "output_type": "execute_result"
    }
   ],
   "source": [
    "df[\"General_Rule\"][2] # Article 1318 General Rule"
   ]
  },
  {
   "cell_type": "code",
   "execution_count": 18,
   "id": "1fd95e4b",
   "metadata": {},
   "outputs": [
    {
     "data": {
      "text/plain": [
       "'the following requisites concur:    (1) consent of the contracting parties;    (2) object certain which is the subject matter of the contract;    (3) cause of the obligation which is established. (1261)'"
      ]
     },
     "execution_count": 18,
     "metadata": {},
     "output_type": "execute_result"
    }
   ],
   "source": [
    "df[\"Exception\"][2] # Article 1318 Exception"
   ]
  },
  {
   "cell_type": "markdown",
   "id": "a4a0bebb",
   "metadata": {},
   "source": [
    "For Art. 1319, the algorithm identified the first instance of \"provided\" in the second paragraph. It should be noted that after data cleaning, paragraphs 1 and 2 were merged."
   ]
  },
  {
   "cell_type": "code",
   "execution_count": 19,
   "id": "36764279",
   "metadata": {},
   "outputs": [
    {
     "data": {
      "text/plain": [
       "'consent is manifested by the meeting of the offer and the acceptance upon the thing and the cause which are to constitute the contract. the offer must be certain and the acceptance absolute. a qualified acceptance constitutes a counter-offer.acceptance made by letter or telegram does not bind the offerer'"
      ]
     },
     "execution_count": 19,
     "metadata": {},
     "output_type": "execute_result"
    }
   ],
   "source": [
    "df[\"General_Rule\"][3] # Article 1319 General Rule"
   ]
  },
  {
   "cell_type": "code",
   "execution_count": 20,
   "id": "6e72b398",
   "metadata": {},
   "outputs": [
    {
     "data": {
      "text/plain": [
       "'from the time it came to his knowledge. the contract, in such a case, is presumed to have been entered into in the place where the offer was made. (1262a)'"
      ]
     },
     "execution_count": 20,
     "metadata": {},
     "output_type": "execute_result"
    }
   ],
   "source": [
    "df[\"Exception\"][3] # Article 1319 Exception"
   ]
  },
  {
   "cell_type": "markdown",
   "id": "9e17a4bb",
   "metadata": {},
   "source": [
    "Lastly, the general rule for Art. 1320 was correctly identified in absence of exception keywords in `exception_keywords`."
   ]
  },
  {
   "cell_type": "code",
   "execution_count": 21,
   "id": "787aa577",
   "metadata": {},
   "outputs": [
    {
     "data": {
      "text/plain": [
       "'an acceptance may be express or implied. (n)'"
      ]
     },
     "execution_count": 21,
     "metadata": {},
     "output_type": "execute_result"
    }
   ],
   "source": [
    "df[\"General_Rule\"][4] # Article 1320 General Rule"
   ]
  },
  {
   "cell_type": "code",
   "execution_count": 22,
   "id": "d70aad00",
   "metadata": {},
   "outputs": [
    {
     "data": {
      "text/plain": [
       "''"
      ]
     },
     "execution_count": 22,
     "metadata": {},
     "output_type": "execute_result"
    }
   ],
   "source": [
    "df[\"Exception\"][4] # Article 1320 Exception"
   ]
  },
  {
   "cell_type": "markdown",
   "id": "18b895fa",
   "metadata": {},
   "source": [
    "## Way Forward\n",
    "\n",
    "\n",
    "Research on the following:\n",
    "\n",
    "- ### How to recognize the tone of the individual articles of law?\n",
    "\n",
    " - This is important to be able to apply parsers uniformly.\n",
    " \n",
    "- ### Is it possible to restructure sentences made in the negative tone into a positive tone?\n",
    "\n",
    " - This should not replace the original but a way to improve pattern recognition.\n",
    " \n",
    "- ### How to recognize the usage of the word \"provided\" in the context of adjacent phrases and sentences?\n",
    "\n",
    " - Could the placing of the word \"provided\" affect the context?\n",
    " \n",
    "- ### The numbers enclosed in parentheses\n",
    "\n",
    " - The numbers enclosed in paretheses points to the old Spanish Civil Code where it was originally adopted."
   ]
  },
  {
   "cell_type": "code",
   "execution_count": null,
   "id": "bc496318",
   "metadata": {},
   "outputs": [],
   "source": []
  }
 ],
 "metadata": {
  "kernelspec": {
   "display_name": "Python 3",
   "language": "python",
   "name": "python3"
  },
  "language_info": {
   "codemirror_mode": {
    "name": "ipython",
    "version": 3
   },
   "file_extension": ".py",
   "mimetype": "text/x-python",
   "name": "python",
   "nbconvert_exporter": "python",
   "pygments_lexer": "ipython3",
   "version": "3.9.0"
  }
 },
 "nbformat": 4,
 "nbformat_minor": 5
}
