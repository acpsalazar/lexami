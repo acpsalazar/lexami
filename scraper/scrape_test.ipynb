{
 "cells": [
  {
   "cell_type": "markdown",
   "metadata": {},
   "source": [
    "## Install Missing Python Packages"
   ]
  },
  {
   "cell_type": "code",
   "execution_count": null,
   "metadata": {},
   "outputs": [],
   "source": [
    "!pip install selenium"
   ]
  },
  {
   "cell_type": "markdown",
   "metadata": {},
   "source": [
    "### To fix selenium ModuleNotFoundError:\n",
    "\n",
    "https://medium.com/@shashanksrivastava/how-to-fix-no-module-named-selenium-error-in-python-3-da3fd7b61485"
   ]
  },
  {
   "cell_type": "markdown",
   "metadata": {},
   "source": [
    "### Recommendation\n",
    "\n",
    "Create an environment to easily setup package dependencies"
   ]
  },
  {
   "cell_type": "code",
   "execution_count": 1,
   "metadata": {},
   "outputs": [],
   "source": [
    "import logging\n",
    "\n",
    "from selenium import webdriver"
   ]
  },
  {
   "cell_type": "code",
   "execution_count": 7,
   "metadata": {},
   "outputs": [],
   "source": [
    "def login_to_elib(username, password):\n",
    "    profile = webdriver.FirefoxProfile()\n",
    "    profile.set_preference(\"general.useragent.override\", \"New user agent\")\n",
    "    browser = webdriver.Firefox(firefox_profile=profile, \\\n",
    "                                executable_path='/home/dana/github_projects/lexami/drivers/geckodriver')\n",
    "    browser.get('http://elibrary.judiciary.gov.ph/elibsearch')\n",
    "    browser.find_element_by_id('user_login').send_keys(username)\n",
    "    browser.find_element_by_id('user_pass').send_keys(password)\n",
    "    browser.find_element_by_id('submit').click()\n",
    "    \n",
    "    return browser"
   ]
  },
  {
   "cell_type": "code",
   "execution_count": 8,
   "metadata": {},
   "outputs": [
    {
     "name": "stdout",
     "output_type": "stream",
     "text": [
      "username: melsalazar05\n",
      "password: Prov31@SCJ\n"
     ]
    }
   ],
   "source": [
    "if __name__ == \"__main__\":\n",
    "    username = input(\"username: \")\n",
    "    password = input(\"password: \")\n",
    "    browser = login_to_elib(username, password)"
   ]
  },
  {
   "cell_type": "code",
   "execution_count": null,
   "metadata": {},
   "outputs": [],
   "source": []
  }
 ],
 "metadata": {
  "kernelspec": {
   "display_name": "Python 3",
   "language": "python",
   "name": "python3"
  },
  "language_info": {
   "codemirror_mode": {
    "name": "ipython",
    "version": 3
   },
   "file_extension": ".py",
   "mimetype": "text/x-python",
   "name": "python",
   "nbconvert_exporter": "python",
   "pygments_lexer": "ipython3",
   "version": "3.6.10"
  }
 },
 "nbformat": 4,
 "nbformat_minor": 4
}
