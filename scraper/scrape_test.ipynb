{
 "cells": [
  {
   "cell_type": "markdown",
   "metadata": {},
   "source": [
    "## Install Missing Python Packages"
   ]
  },
  {
   "cell_type": "code",
   "execution_count": null,
   "metadata": {},
   "outputs": [],
   "source": [
    "!pip3 install selenium\n",
    "!pip3 install scrapy"
   ]
  },
  {
   "cell_type": "markdown",
   "metadata": {},
   "source": [
    "### To fix selenium ModuleNotFoundError:\n",
    "\n",
    "https://medium.com/@shashanksrivastava/how-to-fix-no-module-named-selenium-error-in-python-3-da3fd7b61485"
   ]
  },
  {
   "cell_type": "markdown",
   "metadata": {},
   "source": [
    "### Recommendation\n",
    "\n",
    "Create an environment to easily setup package dependencies"
   ]
  },
  {
   "cell_type": "code",
   "execution_count": 9,
   "metadata": {},
   "outputs": [],
   "source": [
    "import getpass\n",
    "import logging\n",
    "import scrapy\n",
    "import subprocess\n",
    "\n",
    "from selenium import webdriver"
   ]
  },
  {
   "cell_type": "code",
   "execution_count": 10,
   "metadata": {},
   "outputs": [],
   "source": [
    "def connect_to_vpn():\n",
    "    \n",
    "    subprocess.call(\"sudo protonvpn connect --sc\", shell=True)\n",
    "    "
   ]
  },
  {
   "cell_type": "code",
   "execution_count": 11,
   "metadata": {},
   "outputs": [],
   "source": [
    "def disconnect_to_vpn():\n",
    "    \n",
    "    subprocess.call(\"sudo protonvpn disconnect\", shell=True)"
   ]
  },
  {
   "cell_type": "code",
   "execution_count": 15,
   "metadata": {},
   "outputs": [],
   "source": [
    "def login_to_elib(username, password):\n",
    "    \n",
    "    profile = webdriver.FirefoxProfile()\n",
    "    profile.set_preference(\"general.useragent.override\", \"New user agent\")\n",
    "    options = webdriver.FirefoxOptions()\n",
    "    options.headless = True\n",
    "    browser = webdriver.Firefox(firefox_profile=profile, \\\n",
    "                                executable_path='/home/dana/github_projects/lexami/drivers/geckodriver', \\\n",
    "                                options=options)\n",
    "    browser.get('http://elibrary.judiciary.gov.ph/elibsearch')\n",
    "    browser.find_element_by_id('user_login').send_keys(username)\n",
    "    browser.find_element_by_id('user_pass').send_keys(password)\n",
    "    browser.find_element_by_id('submit').click()\n",
    "    session_id = browser.session_id\n",
    "    current_url = browser.current_url\n",
    "    browser.quit()\n",
    "    \n",
    "    return session_id, current_url"
   ]
  },
  {
   "cell_type": "code",
   "execution_count": null,
   "metadata": {},
   "outputs": [],
   "source": [
    "def get_page_urls():"
   ]
  },
  {
   "cell_type": "code",
   "execution_count": 16,
   "metadata": {},
   "outputs": [
    {
     "name": "stderr",
     "output_type": "stream",
     "text": [
      "2020-05-26 11:10:02,371 Creating a VPN Connection\n",
      "2020-05-26 11:10:02,465 Enter username and password\n"
     ]
    },
    {
     "name": "stdout",
     "output_type": "stream",
     "text": [
      "username: ········\n",
      "password: ········\n"
     ]
    },
    {
     "name": "stderr",
     "output_type": "stream",
     "text": [
      "2020-05-26 11:10:26,759 Logging in credentials\n",
      "2020-05-26 11:10:58,655 Successfully logged in\n",
      "2020-05-26 11:10:58,675 Get URLs for years 1996 to 2020\n",
      "2020-05-26 11:10:58,799 Disconnected to VPN\n"
     ]
    },
    {
     "name": "stdout",
     "output_type": "stream",
     "text": [
      "120ba738-502e-4f12-acfa-bdc8d29dedfd\n"
     ]
    }
   ],
   "source": [
    "if __name__ == \"__main__\":\n",
    "    \n",
    "    logging.basicConfig(level=logging.INFO,format=\"%(asctime)s %(message)s\")\n",
    "    logging.info(\"Creating a VPN Connection\")\n",
    "    connect_to_vpn()\n",
    "    logging.info(\"Enter username and password\")\n",
    "    username = getpass.getpass(\"username: \", stream=None)\n",
    "    password = getpass.getpass(\"password: \", stream=None)\n",
    "    logging.info(\"Logging in credentials\")\n",
    "    session_id, current_url = login_to_elib(username, password)\n",
    "    logging.info(\"Successfully logged in\")\n",
    "    print(session_id)\n",
    "    logging.info(\"Get URLs for years 1996 to 2020\")\n",
    "    disconnect_to_vpn()\n",
    "    logging.info(\"Disconnected to VPN\")"
   ]
  },
  {
   "cell_type": "code",
   "execution_count": null,
   "metadata": {},
   "outputs": [],
   "source": []
  }
 ],
 "metadata": {
  "kernelspec": {
   "display_name": "Python 3",
   "language": "python",
   "name": "python3"
  },
  "language_info": {
   "codemirror_mode": {
    "name": "ipython",
    "version": 3
   },
   "file_extension": ".py",
   "mimetype": "text/x-python",
   "name": "python",
   "nbconvert_exporter": "python",
   "pygments_lexer": "ipython3",
   "version": "3.6.10"
  }
 },
 "nbformat": 4,
 "nbformat_minor": 4
}
